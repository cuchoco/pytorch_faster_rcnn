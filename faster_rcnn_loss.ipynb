{
 "cells": [
  {
   "cell_type": "code",
   "execution_count": 1,
   "metadata": {},
   "outputs": [
    {
     "name": "stdout",
     "output_type": "stream",
     "text": [
      "Loaded dataset `voc_2007_trainval` for training\n",
      "Set proposal method: gt\n",
      "Appending horizontally-flipped training examples...\n",
      "voc_2007_trainval gt roidb loaded from /home/kuchoco97/work/detection_network/faster-rcnn.pytorch/data/cache/voc_2007_trainval_gt_roidb.pkl\n",
      "done\n",
      "Preparing training data...\n",
      "done\n",
      "before filtering, there are 10022 images...\n",
      "after filtering, there are 10022 images...\n",
      "Loading pretrained weights from data/pretrained_model/resnet101_caffe.pth\n"
     ]
    }
   ],
   "source": [
    "from __future__ import absolute_import\n",
    "from __future__ import division\n",
    "from __future__ import print_function\n",
    "\n",
    "import _init_paths\n",
    "import os\n",
    "import sys\n",
    "import numpy as np\n",
    "import argparse\n",
    "import pprint\n",
    "import pdb\n",
    "import time\n",
    "\n",
    "import torch\n",
    "from torch.autograd import Variable\n",
    "import torch.nn as nn\n",
    "import torch.optim as optim\n",
    "\n",
    "import torchvision.transforms as transforms\n",
    "from torch.utils.data.sampler import Sampler\n",
    "\n",
    "from roi_data_layer.roidb import combined_roidb\n",
    "from roi_data_layer.roibatchLoader import roibatchLoader\n",
    "from model.utils.config import cfg, cfg_from_file, cfg_from_list, get_output_dir\n",
    "from model.utils.net_utils import weights_normal_init, save_net, load_net, \\\n",
    "      adjust_learning_rate, save_checkpoint, clip_gradient\n",
    "from model.utils.net_utils import _smooth_l1_loss\n",
    "from model.faster_rcnn.vgg16 import vgg16\n",
    "from model.faster_rcnn.resnet import resnet\n",
    "\n",
    "os.environ[\"CUDA_DEVICE_ORDER\"]=\"PCI_BUS_ID\"\n",
    "os.environ[\"CUDA_VISIBLE_DEVICES\"] = '2'\n",
    "\n",
    "class sampler(Sampler):\n",
    "  def __init__(self, train_size, batch_size):\n",
    "    self.num_data = train_size\n",
    "    self.num_per_batch = int(train_size / batch_size)\n",
    "    self.batch_size = batch_size\n",
    "    self.range = torch.arange(0,batch_size).view(1, batch_size).long()\n",
    "    self.leftover_flag = False\n",
    "    if train_size % batch_size:\n",
    "      self.leftover = torch.arange(self.num_per_batch*batch_size, train_size).long()\n",
    "      self.leftover_flag = True\n",
    "\n",
    "  def __iter__(self):\n",
    "    rand_num = torch.randperm(self.num_per_batch).view(-1,1) * self.batch_size\n",
    "    self.rand_num = rand_num.expand(self.num_per_batch, self.batch_size) + self.range\n",
    "\n",
    "    self.rand_num_view = self.rand_num.view(-1)\n",
    "\n",
    "    if self.leftover_flag:\n",
    "      self.rand_num_view = torch.cat((self.rand_num_view, self.leftover),0)\n",
    "\n",
    "    return iter(self.rand_num_view)\n",
    "\n",
    "  def __len__(self):\n",
    "    return self.num_data\n",
    "\n",
    "\n",
    "imdb, roidb, ratio_list, ratio_index = combined_roidb(\"voc_2007_trainval\")\n",
    "train_size = len(roidb)\n",
    "\n",
    "\n",
    "sampler_batch = sampler(train_size, 8)\n",
    "\n",
    "dataset = roibatchLoader(roidb, ratio_list, ratio_index, 8, \\\n",
    "                       imdb.num_classes, training=True)\n",
    "\n",
    "dataloader = torch.utils.data.DataLoader(dataset, batch_size=8,\n",
    "                        sampler=sampler_batch, num_workers=5)\n",
    "\n",
    "# initilize the tensor holder here.\n",
    "im_data = torch.FloatTensor(1)\n",
    "im_info = torch.FloatTensor(1)\n",
    "num_boxes = torch.LongTensor(1)\n",
    "gt_boxes = torch.FloatTensor(1)\n",
    "\n",
    "\n",
    "im_data = im_data.cuda()\n",
    "im_info = im_info.cuda()\n",
    "num_boxes = num_boxes.cuda()\n",
    "gt_boxes = gt_boxes.cuda()\n",
    "\n",
    "# make variable\n",
    "im_data = Variable(im_data)\n",
    "im_info = Variable(im_info)\n",
    "num_boxes = Variable(num_boxes)\n",
    "gt_boxes = Variable(gt_boxes)\n",
    "\n",
    "fasterRCNN = resnet(imdb.classes, 101, pretrained=True, class_agnostic=True)\n",
    "fasterRCNN.create_architecture()\n",
    "fasterRCNN.cuda()\n",
    "\n",
    "data = next(iter(dataloader))\n",
    "with torch.no_grad():\n",
    "    im_data.resize_(data[0].size()).copy_(data[0])\n",
    "    im_info.resize_(data[1].size()).copy_(data[1])\n",
    "    gt_boxes.resize_(data[2].size()).copy_(data[2])\n",
    "    num_boxes.resize_(data[3].size()).copy_(data[3])\n",
    "\n",
    "# fasterRCNN.zero_grad()\n",
    "# rois, cls_prob, bbox_pred, \\\n",
    "# rpn_loss_cls, rpn_loss_box, \\\n",
    "# RCNN_loss_cls, RCNN_loss_bbox, \\\n",
    "# rois_label = fasterRCNN(im_data, im_info, gt_boxes, num_boxes)\n",
    "\n",
    "# loss = rpn_loss_cls.mean() + rpn_loss_box.mean() \\\n",
    "#    + RCNN_loss_cls.mean() + RCNN_loss_bbox.mean()"
   ]
  },
  {
   "cell_type": "code",
   "execution_count": 2,
   "metadata": {},
   "outputs": [
    {
     "name": "stderr",
     "output_type": "stream",
     "text": [
      "/home/kuchoco97/work/detection_network/faster-rcnn.pytorch/lib/model/rpn/rpn.py:93: UserWarning: This overload of nonzero is deprecated:\n",
      "\tnonzero()\n",
      "Consider using one of the following signatures instead:\n",
      "\tnonzero(*, bool as_tuple) (Triggered internally at  ../torch/csrc/utils/python_arg_parser.cpp:962.)\n",
      "  rpn_keep = Variable(rpn_label.view(-1).ne(-1).nonzero().view(-1))\n"
     ]
    }
   ],
   "source": [
    "# feed image data to base model to obtain base feature map\n",
    "base_feat = fasterRCNN.RCNN_base(im_data)\n",
    "\n",
    "# feed base feature map tp RPN to obtain rois\n",
    "rois, rpn_loss_cls, rpn_loss_bbox = fasterRCNN.RCNN_rpn(base_feat, im_info, gt_boxes, num_boxes)\n",
    "\n",
    "# if it is training phrase, then use ground trubut bboxes for refining\n",
    "if True:\n",
    "    roi_data = fasterRCNN.RCNN_proposal_target(rois, gt_boxes, num_boxes)\n",
    "    rois, rois_label, rois_target, rois_inside_ws, rois_outside_ws = roi_data\n",
    "\n",
    "    rois_label = rois_label.view(-1).long()\n",
    "    rois_target = rois_target.view(-1, rois_target.size(2))\n",
    "    rois_inside_ws = rois_inside_ws.view(-1, rois_inside_ws.size(2))\n",
    "    rois_outside_ws = rois_outside_ws.view(-1, rois_outside_ws.size(2))"
   ]
  },
  {
   "cell_type": "code",
   "execution_count": 12,
   "metadata": {},
   "outputs": [
    {
     "data": {
      "text/plain": [
       "torch.Size([8, 1024, 51, 38])"
      ]
     },
     "execution_count": 12,
     "metadata": {},
     "output_type": "execute_result"
    }
   ],
   "source": [
    "base_feat.shape"
   ]
  },
  {
   "cell_type": "code",
   "execution_count": 3,
   "metadata": {},
   "outputs": [],
   "source": [
    "# do roi pooling based on predicted rois\n",
    "POOLING_MODE = 'align'\n",
    "\n",
    "if POOLING_MODE == 'align':\n",
    "    pooled_feat = fasterRCNN.RCNN_roi_align(base_feat, rois.view(-1, 5))\n",
    "elif POOLING_MODE == 'pool':\n",
    "    pooled_feat = fasterRCNN.RCNN_roi_pool(base_feat, rois.view(-1,5))\n",
    "\n",
    "# feed pooled features to top model\n",
    "pooled_feat = fasterRCNN._head_to_tail(pooled_feat)"
   ]
  },
  {
   "cell_type": "code",
   "execution_count": 6,
   "metadata": {},
   "outputs": [],
   "source": [
    "# compute bbox offset\n",
    "bbox_pred = fasterRCNN.RCNN_bbox_pred(pooled_feat)\n",
    "if True:\n",
    "    # select the corresponding columns according to roi labels\n",
    "    bbox_pred_view = bbox_pred.view(bbox_pred.size(0), int(bbox_pred.size(1) / 4), 4)\n",
    "    bbox_pred_select = torch.gather(bbox_pred_view, 1, rois_label.view(rois_label.size(0), 1, 1).expand(rois_label.size(0), 1, 4))\n",
    "    bbox_pred = bbox_pred_select.squeeze(1)"
   ]
  },
  {
   "cell_type": "code",
   "execution_count": null,
   "metadata": {},
   "outputs": [],
   "source": []
  }
 ],
 "metadata": {
  "kernelspec": {
   "display_name": "Python 3",
   "language": "python",
   "name": "python3"
  },
  "language_info": {
   "codemirror_mode": {
    "name": "ipython",
    "version": 3
   },
   "file_extension": ".py",
   "mimetype": "text/x-python",
   "name": "python",
   "nbconvert_exporter": "python",
   "pygments_lexer": "ipython3",
   "version": "3.8.5"
  }
 },
 "nbformat": 4,
 "nbformat_minor": 4
}
